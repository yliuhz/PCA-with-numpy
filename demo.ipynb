{
 "cells": [
  {
   "cell_type": "code",
   "execution_count": 1,
   "id": "fb3122d1",
   "metadata": {},
   "outputs": [],
   "source": [
    "import numpy as np\n",
    "import matplotlib.pyplot as plt\n",
    "%matplotlib inline"
   ]
  },
  {
   "cell_type": "code",
   "execution_count": 2,
   "id": "78a3b9e4",
   "metadata": {},
   "outputs": [],
   "source": [
    "data = np.random.randn(20,5)"
   ]
  },
  {
   "cell_type": "code",
   "execution_count": 3,
   "id": "c64a4fcc",
   "metadata": {},
   "outputs": [],
   "source": [
    "data = (data - data.mean(0)) / data.std(0)"
   ]
  },
  {
   "cell_type": "code",
   "execution_count": null,
   "id": "c161b428",
   "metadata": {},
   "outputs": [],
   "source": []
  },
  {
   "cell_type": "markdown",
   "id": "d673598e",
   "metadata": {},
   "source": [
    "## Method1: SVD of data"
   ]
  },
  {
   "cell_type": "code",
   "execution_count": 4,
   "id": "fe221861",
   "metadata": {},
   "outputs": [],
   "source": [
    "u, s, vh = np.linalg.svd(data)"
   ]
  },
  {
   "cell_type": "code",
   "execution_count": 5,
   "id": "94e8fc98",
   "metadata": {},
   "outputs": [
    {
     "data": {
      "text/plain": [
       "array([[ 0.40192506,  0.37008712, -0.59058304,  0.43390911, -0.40549517],\n",
       "       [-0.62733801, -0.18778708, -0.30177717, -0.26700239, -0.63939291],\n",
       "       [ 0.38783047, -0.59661272,  0.41948316,  0.24721721, -0.50651586],\n",
       "       [-0.00150465,  0.68400809,  0.58329529, -0.16668028, -0.40511104],\n",
       "       [-0.54266798,  0.06291043,  0.20962515,  0.80717652,  0.07795572]])"
      ]
     },
     "execution_count": 5,
     "metadata": {},
     "output_type": "execute_result"
    }
   ],
   "source": [
    "vh.T"
   ]
  },
  {
   "cell_type": "code",
   "execution_count": 6,
   "id": "edfd03e4",
   "metadata": {},
   "outputs": [],
   "source": []
  },
  {
   "cell_type": "code",
   "execution_count": null,
   "id": "3940d103",
   "metadata": {},
   "outputs": [],
   "source": []
  },
  {
   "cell_type": "code",
   "execution_count": null,
   "id": "6bc09203",
   "metadata": {},
   "outputs": [],
   "source": []
  },
  {
   "cell_type": "markdown",
   "id": "135376f8",
   "metadata": {},
   "source": [
    "## Method2: Eigen decomposition of cov"
   ]
  },
  {
   "cell_type": "code",
   "execution_count": 7,
   "id": "5aeddf50",
   "metadata": {},
   "outputs": [],
   "source": [
    "cov = np.cov(data, rowvar=False)"
   ]
  },
  {
   "cell_type": "code",
   "execution_count": 8,
   "id": "e3315540",
   "metadata": {},
   "outputs": [],
   "source": [
    "eigenvalues, eigenvectors = np.linalg.eig(cov)"
   ]
  },
  {
   "cell_type": "code",
   "execution_count": 9,
   "id": "894a1735",
   "metadata": {},
   "outputs": [
    {
     "data": {
      "text/plain": [
       "array([[ 0.40192506, -0.40549517,  0.43390911,  0.59058304,  0.37008712],\n",
       "       [-0.62733801, -0.63939291, -0.26700239,  0.30177717, -0.18778708],\n",
       "       [ 0.38783047, -0.50651586,  0.24721721, -0.41948316, -0.59661272],\n",
       "       [-0.00150465, -0.40511104, -0.16668028, -0.58329529,  0.68400809],\n",
       "       [-0.54266798,  0.07795572,  0.80717652, -0.20962515,  0.06291043]])"
      ]
     },
     "execution_count": 9,
     "metadata": {},
     "output_type": "execute_result"
    }
   ],
   "source": [
    "eigenvectors"
   ]
  },
  {
   "cell_type": "code",
   "execution_count": null,
   "id": "dbd6aa12",
   "metadata": {},
   "outputs": [],
   "source": []
  },
  {
   "cell_type": "code",
   "execution_count": null,
   "id": "c196be15",
   "metadata": {},
   "outputs": [],
   "source": [
    "data_pca = data.dot(vh.T[:,:2])"
   ]
  },
  {
   "cell_type": "code",
   "execution_count": null,
   "id": "c7e7b4e6",
   "metadata": {},
   "outputs": [],
   "source": []
  }
 ],
 "metadata": {
  "kernelspec": {
   "display_name": "Python 3 (ipykernel)",
   "language": "python",
   "name": "python3"
  },
  "language_info": {
   "codemirror_mode": {
    "name": "ipython",
    "version": 3
   },
   "file_extension": ".py",
   "mimetype": "text/x-python",
   "name": "python",
   "nbconvert_exporter": "python",
   "pygments_lexer": "ipython3",
   "version": "3.10.10"
  }
 },
 "nbformat": 4,
 "nbformat_minor": 5
}
